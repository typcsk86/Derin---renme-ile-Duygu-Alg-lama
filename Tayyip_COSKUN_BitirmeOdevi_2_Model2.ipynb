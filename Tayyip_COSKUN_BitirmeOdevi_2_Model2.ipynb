{
  "nbformat": 4,
  "nbformat_minor": 0,
  "metadata": {
    "colab": {
      "name": "Tayyip_COSKUN_BitirmeOdevi_2_Model2.ipynb",
      "provenance": [],
      "collapsed_sections": [],
      "mount_file_id": "1kiQhImF7RoDg41tmSjeCV89iTe_Owbfb",
      "authorship_tag": "ABX9TyNEzD2dJDZJ6H1CAC0/agVN",
      "include_colab_link": true
    },
    "kernelspec": {
      "name": "python3",
      "display_name": "Python 3"
    },
    "language_info": {
      "name": "python"
    },
    "accelerator": "GPU"
  },
  "cells": [
    {
      "cell_type": "markdown",
      "metadata": {
        "id": "view-in-github",
        "colab_type": "text"
      },
      "source": [
        "<a href=\"https://colab.research.google.com/github/typcsk86/Derin-Ogrenme-ile-Duygu-Algilama/blob/main/Tayyip_COSKUN_BitirmeOdevi_2_Model2.ipynb\" target=\"_parent\"><img src=\"https://colab.research.google.com/assets/colab-badge.svg\" alt=\"Open In Colab\"/></a>"
      ]
    },
    {
      "cell_type": "markdown",
      "metadata": {
        "id": "3GSeVGJi7itw"
      },
      "source": [
        "**VERİSETİNİ GOOGLE DRIVE'DAN COLAB'A YÜKLEMEK**"
      ]
    },
    {
      "cell_type": "code",
      "metadata": {
        "id": "kW4WMrrw7dcq"
      },
      "source": [
        "zip_adress = \"/content/drive/MyDrive/BitirmeOdeviDataset/datasetOriginal.zip\"\n",
        "!cp \"{zip_adress}\" ."
      ],
      "execution_count": null,
      "outputs": []
    },
    {
      "cell_type": "code",
      "metadata": {
        "id": "zXLDNgPF7nZv"
      },
      "source": [
        "!unzip -q datasetOriginal.zip\n",
        "!rm datasetOriginal.zip"
      ],
      "execution_count": null,
      "outputs": []
    },
    {
      "cell_type": "markdown",
      "metadata": {
        "id": "On2TUoI-7uGn"
      },
      "source": [
        "**COLAB'A YÜKLEDİĞİMİZ VERİSETİNİ CNN MODELİNE UYGUN HALE GETİRMEK**"
      ]
    },
    {
      "cell_type": "code",
      "metadata": {
        "id": "TD5pw6r97tiA"
      },
      "source": [
        "train_dir = \"datasetOriginal/train/\"\n",
        "test_dir = \"datasetOriginal/test/\"\n",
        "\n",
        "SIZE = 48"
      ],
      "execution_count": null,
      "outputs": []
    },
    {
      "cell_type": "code",
      "metadata": {
        "id": "M_6_Wg54756Q"
      },
      "source": [
        "import numpy as np\n",
        "import os\n",
        "import matplotlib.pyplot as plt\n",
        "import seaborn as sns\n",
        "import cv2\n",
        "\n",
        "from keras.preprocessing import image\n",
        "from tensorflow.keras.preprocessing.image import ImageDataGenerator"
      ],
      "execution_count": null,
      "outputs": []
    },
    {
      "cell_type": "code",
      "metadata": {
        "id": "1dEyfyqH8B64"
      },
      "source": [
        "train_datagen = ImageDataGenerator(\n",
        "                                         width_shift_range = 0.1,\n",
        "                                         height_shift_range = 0.1,\n",
        "                                         horizontal_flip = True,\n",
        "                                         rescale = 1./255,\n",
        "                                         #validation_split = 0.2\n",
        "                                  )\n",
        "\n",
        "validation_datagen = ImageDataGenerator(\n",
        "                                         rescale = 1./255,\n",
        "                                         validation_split = 0.999\n",
        "                                       )"
      ],
      "execution_count": null,
      "outputs": []
    },
    {
      "cell_type": "code",
      "metadata": {
        "id": "prRsljBj8EOY",
        "colab": {
          "base_uri": "https://localhost:8080/"
        },
        "outputId": "e359a756-9fbe-473a-ef1e-b7441a37ce42"
      },
      "source": [
        "train_generator = train_datagen.flow_from_directory(\n",
        "                                                      directory = train_dir,\n",
        "                                                      target_size = (SIZE,SIZE),\n",
        "                                                      batch_size = 64,\n",
        "                                                      color_mode = \"grayscale\",\n",
        "                                                      class_mode = \"categorical\",\n",
        "                                                      subset = \"training\"\n",
        "                                                   )\n",
        "validation_generator = validation_datagen.flow_from_directory( \n",
        "                                                                directory = test_dir,\n",
        "                                                                target_size = (SIZE,SIZE),\n",
        "                                                                batch_size = 64,\n",
        "                                                                color_mode = \"grayscale\",\n",
        "                                                                class_mode = \"categorical\",\n",
        "                                                                subset = \"validation\"\n",
        "                                                             )"
      ],
      "execution_count": null,
      "outputs": [
        {
          "output_type": "stream",
          "text": [
            "Found 23308 images belonging to 5 classes.\n",
            "Found 5826 images belonging to 5 classes.\n"
          ],
          "name": "stdout"
        }
      ]
    },
    {
      "cell_type": "markdown",
      "metadata": {
        "id": "PlJGPA978H5A"
      },
      "source": [
        "**VERİSETİNİ MODELE VEREREK MODELİ EĞİTMEK**"
      ]
    },
    {
      "cell_type": "code",
      "metadata": {
        "id": "0MDTJwl88I2A"
      },
      "source": [
        "import tensorflow as tf\n",
        "import keras\n",
        "from keras.models import Sequential\n",
        "from keras.layers import Conv2D, MaxPool2D, Flatten,Dense,Dropout,BatchNormalization, LeakyReLU\n",
        "from tensorflow.keras.preprocessing.image import ImageDataGenerator\n",
        "import cv2\n",
        "from tensorflow.keras.applications import VGG16, InceptionResNetV2\n",
        "from keras import regularizers\n",
        "from tensorflow.keras.optimizers import Adam,RMSprop,SGD,Adamax"
      ],
      "execution_count": null,
      "outputs": []
    },
    {
      "cell_type": "code",
      "metadata": {
        "id": "pPVyP7zP8LWY"
      },
      "source": [
        "model=tf.keras.models.Sequential()\n",
        "\n",
        "model.add(Conv2D(32, kernel_size=(3, 3), padding='same', activation=LeakyReLU(alpha=0.1), input_shape=(48, 48, 1)))\n",
        "\n",
        "model.add(Conv2D(64, (3,3), padding='same', activation=LeakyReLU(alpha=0.1)))\n",
        "model.add(BatchNormalization())\n",
        "model.add(MaxPool2D(pool_size=(2, 2)))\n",
        "model.add(Dropout(0.3))\n",
        "\n",
        "model.add(Conv2D(128, (5,5), padding='same', activation=LeakyReLU(alpha=0.1)))\n",
        "model.add(BatchNormalization())\n",
        "model.add(MaxPool2D(pool_size=(2, 2)))\n",
        "model.add(Dropout(0.3))\n",
        "\n",
        "model.add(Conv2D(256, (3,3), padding='same', activation=LeakyReLU(alpha=0.1)))\n",
        "model.add(BatchNormalization())\n",
        "model.add(MaxPool2D(pool_size=(2, 2)))\n",
        "model.add(Dropout(0.3))\n",
        "\n",
        "model.add(Conv2D(512, (5,5), padding='same', activation=LeakyReLU(alpha=0.1)))\n",
        "model.add(BatchNormalization())\n",
        "model.add(MaxPool2D(pool_size=(2, 2)))\n",
        "model.add(Dropout(0.25))\n",
        "\n",
        "model.add(Conv2D(512, (5,5), padding='same', activation=LeakyReLU(alpha=0.1)))#, kernel_regularizer=regularizers.l2(0.01)))\n",
        "model.add(BatchNormalization())\n",
        "model.add(MaxPool2D(pool_size=(2, 2)))\n",
        "model.add(Dropout(0.25))\n",
        "\n",
        "model.add(Flatten())\n",
        "model.add(Dense(256, activation=LeakyReLU(alpha=0.1)))\n",
        "model.add(BatchNormalization())\n",
        "model.add(Dropout(0.25))\n",
        "\n",
        "model.add(Dense(512, activation=LeakyReLU(alpha=0.1)))\n",
        "model.add(BatchNormalization())\n",
        "model.add(Dropout(0.25))\n",
        "\n",
        "model.add(Dense(5, activation='softmax'))\n",
        "\n",
        "model.compile(\n",
        "    optimizer=Adam(learning_rate=0.0001),\n",
        "    loss='categorical_crossentropy',\n",
        "    metrics=['accuracy']\n",
        ")"
      ],
      "execution_count": null,
      "outputs": []
    },
    {
      "cell_type": "code",
      "metadata": {
        "id": "xW0dEuSr8LtA"
      },
      "source": [
        "#model.summary()"
      ],
      "execution_count": null,
      "outputs": []
    },
    {
      "cell_type": "code",
      "metadata": {
        "id": "dFQjnng68PAA",
        "colab": {
          "base_uri": "https://localhost:8080/"
        },
        "outputId": "c65aed08-4a35-4dfd-d59b-06ae86453608"
      },
      "source": [
        "E = 100\n",
        "history = model.fit(x = train_generator,epochs = E,validation_data = validation_generator)"
      ],
      "execution_count": null,
      "outputs": [
        {
          "output_type": "stream",
          "text": [
            "Epoch 1/100\n",
            "365/365 [==============================] - 24s 57ms/step - loss: 1.9839 - accuracy: 0.2415 - val_loss: 1.6780 - val_accuracy: 0.3040\n",
            "Epoch 2/100\n",
            "365/365 [==============================] - 20s 55ms/step - loss: 1.7977 - accuracy: 0.2743 - val_loss: 1.6124 - val_accuracy: 0.3175\n",
            "Epoch 3/100\n",
            "365/365 [==============================] - 20s 54ms/step - loss: 1.7358 - accuracy: 0.2883 - val_loss: 1.5453 - val_accuracy: 0.3465\n",
            "Epoch 4/100\n",
            "365/365 [==============================] - 20s 55ms/step - loss: 1.6763 - accuracy: 0.3118 - val_loss: 1.4229 - val_accuracy: 0.4090\n",
            "Epoch 5/100\n",
            "365/365 [==============================] - 20s 54ms/step - loss: 1.5900 - accuracy: 0.3492 - val_loss: 2.1761 - val_accuracy: 0.3309\n",
            "Epoch 6/100\n",
            "365/365 [==============================] - 20s 55ms/step - loss: 1.4849 - accuracy: 0.3942 - val_loss: 2.4850 - val_accuracy: 0.3387\n",
            "Epoch 7/100\n",
            "365/365 [==============================] - 20s 55ms/step - loss: 1.4085 - accuracy: 0.4275 - val_loss: 1.2569 - val_accuracy: 0.4834\n",
            "Epoch 8/100\n",
            "365/365 [==============================] - 20s 55ms/step - loss: 1.3389 - accuracy: 0.4515 - val_loss: 1.1763 - val_accuracy: 0.5160\n",
            "Epoch 9/100\n",
            "365/365 [==============================] - 20s 55ms/step - loss: 1.2737 - accuracy: 0.4790 - val_loss: 1.1597 - val_accuracy: 0.5338\n",
            "Epoch 10/100\n",
            "365/365 [==============================] - 20s 54ms/step - loss: 1.2083 - accuracy: 0.5046 - val_loss: 1.3279 - val_accuracy: 0.5211\n",
            "Epoch 11/100\n",
            "365/365 [==============================] - 20s 54ms/step - loss: 1.1588 - accuracy: 0.5275 - val_loss: 1.1573 - val_accuracy: 0.5536\n",
            "Epoch 12/100\n",
            "365/365 [==============================] - 20s 54ms/step - loss: 1.1257 - accuracy: 0.5401 - val_loss: 1.0970 - val_accuracy: 0.5678\n",
            "Epoch 13/100\n",
            "365/365 [==============================] - 20s 54ms/step - loss: 1.0887 - accuracy: 0.5550 - val_loss: 0.9967 - val_accuracy: 0.5939\n",
            "Epoch 14/100\n",
            "365/365 [==============================] - 20s 54ms/step - loss: 1.0575 - accuracy: 0.5719 - val_loss: 1.0901 - val_accuracy: 0.5911\n",
            "Epoch 15/100\n",
            "365/365 [==============================] - 20s 55ms/step - loss: 1.0332 - accuracy: 0.5825 - val_loss: 0.9448 - val_accuracy: 0.6189\n",
            "Epoch 16/100\n",
            "365/365 [==============================] - 20s 54ms/step - loss: 1.0150 - accuracy: 0.5910 - val_loss: 0.9853 - val_accuracy: 0.6165\n",
            "Epoch 17/100\n",
            "365/365 [==============================] - 20s 55ms/step - loss: 0.9906 - accuracy: 0.5995 - val_loss: 0.8954 - val_accuracy: 0.6442\n",
            "Epoch 18/100\n",
            "365/365 [==============================] - 20s 54ms/step - loss: 0.9669 - accuracy: 0.6086 - val_loss: 0.9275 - val_accuracy: 0.6306\n",
            "Epoch 19/100\n",
            "365/365 [==============================] - 20s 55ms/step - loss: 0.9587 - accuracy: 0.6116 - val_loss: 0.9085 - val_accuracy: 0.6442\n",
            "Epoch 20/100\n",
            "365/365 [==============================] - 20s 55ms/step - loss: 0.9433 - accuracy: 0.6210 - val_loss: 0.8837 - val_accuracy: 0.6517\n",
            "Epoch 21/100\n",
            "365/365 [==============================] - 20s 55ms/step - loss: 0.9292 - accuracy: 0.6274 - val_loss: 0.8831 - val_accuracy: 0.6474\n",
            "Epoch 22/100\n",
            "365/365 [==============================] - 20s 55ms/step - loss: 0.9035 - accuracy: 0.6355 - val_loss: 0.8371 - val_accuracy: 0.6679\n",
            "Epoch 23/100\n",
            "365/365 [==============================] - 20s 55ms/step - loss: 0.9004 - accuracy: 0.6375 - val_loss: 0.8879 - val_accuracy: 0.6466\n",
            "Epoch 24/100\n",
            "365/365 [==============================] - 20s 55ms/step - loss: 0.8845 - accuracy: 0.6490 - val_loss: 0.8505 - val_accuracy: 0.6634\n",
            "Epoch 25/100\n",
            "365/365 [==============================] - 20s 55ms/step - loss: 0.8731 - accuracy: 0.6475 - val_loss: 0.8389 - val_accuracy: 0.6701\n",
            "Epoch 26/100\n",
            "365/365 [==============================] - 20s 55ms/step - loss: 0.8666 - accuracy: 0.6534 - val_loss: 0.8376 - val_accuracy: 0.6735\n",
            "Epoch 27/100\n",
            "365/365 [==============================] - 20s 55ms/step - loss: 0.8428 - accuracy: 0.6605 - val_loss: 0.8168 - val_accuracy: 0.6790\n",
            "Epoch 28/100\n",
            "365/365 [==============================] - 20s 55ms/step - loss: 0.8382 - accuracy: 0.6626 - val_loss: 0.8545 - val_accuracy: 0.6694\n",
            "Epoch 29/100\n",
            "365/365 [==============================] - 20s 55ms/step - loss: 0.8320 - accuracy: 0.6662 - val_loss: 0.7978 - val_accuracy: 0.6864\n",
            "Epoch 30/100\n",
            "365/365 [==============================] - 20s 55ms/step - loss: 0.8154 - accuracy: 0.6755 - val_loss: 0.8088 - val_accuracy: 0.6830\n",
            "Epoch 31/100\n",
            "365/365 [==============================] - 20s 55ms/step - loss: 0.8118 - accuracy: 0.6766 - val_loss: 0.8339 - val_accuracy: 0.6785\n",
            "Epoch 32/100\n",
            "365/365 [==============================] - 20s 54ms/step - loss: 0.8035 - accuracy: 0.6841 - val_loss: 0.8139 - val_accuracy: 0.6837\n",
            "Epoch 33/100\n",
            "365/365 [==============================] - 20s 54ms/step - loss: 0.7899 - accuracy: 0.6895 - val_loss: 0.8157 - val_accuracy: 0.6847\n",
            "Epoch 34/100\n",
            "365/365 [==============================] - 20s 55ms/step - loss: 0.7794 - accuracy: 0.6909 - val_loss: 0.8382 - val_accuracy: 0.6727\n",
            "Epoch 35/100\n",
            "365/365 [==============================] - 20s 55ms/step - loss: 0.7770 - accuracy: 0.6944 - val_loss: 0.7963 - val_accuracy: 0.6919\n",
            "Epoch 36/100\n",
            "365/365 [==============================] - 20s 54ms/step - loss: 0.7721 - accuracy: 0.6951 - val_loss: 0.7715 - val_accuracy: 0.6995\n",
            "Epoch 37/100\n",
            "365/365 [==============================] - 20s 55ms/step - loss: 0.7592 - accuracy: 0.6975 - val_loss: 0.8043 - val_accuracy: 0.6940\n",
            "Epoch 38/100\n",
            "365/365 [==============================] - 20s 54ms/step - loss: 0.7541 - accuracy: 0.7014 - val_loss: 0.7746 - val_accuracy: 0.7032\n",
            "Epoch 39/100\n",
            "365/365 [==============================] - 20s 54ms/step - loss: 0.7472 - accuracy: 0.7061 - val_loss: 0.7843 - val_accuracy: 0.6988\n",
            "Epoch 40/100\n",
            "365/365 [==============================] - 20s 54ms/step - loss: 0.7327 - accuracy: 0.7115 - val_loss: 0.7933 - val_accuracy: 0.7032\n",
            "Epoch 41/100\n",
            "365/365 [==============================] - 20s 55ms/step - loss: 0.7343 - accuracy: 0.7094 - val_loss: 0.7748 - val_accuracy: 0.7037\n",
            "Epoch 42/100\n",
            "365/365 [==============================] - 20s 54ms/step - loss: 0.7205 - accuracy: 0.7161 - val_loss: 0.7824 - val_accuracy: 0.7044\n",
            "Epoch 43/100\n",
            "365/365 [==============================] - 20s 55ms/step - loss: 0.7116 - accuracy: 0.7189 - val_loss: 0.7726 - val_accuracy: 0.7073\n",
            "Epoch 44/100\n",
            "365/365 [==============================] - 20s 55ms/step - loss: 0.7086 - accuracy: 0.7246 - val_loss: 0.7781 - val_accuracy: 0.7025\n",
            "Epoch 45/100\n",
            "365/365 [==============================] - 20s 54ms/step - loss: 0.6975 - accuracy: 0.7257 - val_loss: 0.7612 - val_accuracy: 0.7125\n",
            "Epoch 46/100\n",
            "365/365 [==============================] - 20s 55ms/step - loss: 0.6879 - accuracy: 0.7295 - val_loss: 0.7748 - val_accuracy: 0.7067\n",
            "Epoch 47/100\n",
            "365/365 [==============================] - 20s 55ms/step - loss: 0.6800 - accuracy: 0.7301 - val_loss: 0.7518 - val_accuracy: 0.7178\n",
            "Epoch 48/100\n",
            "365/365 [==============================] - 20s 54ms/step - loss: 0.6839 - accuracy: 0.7320 - val_loss: 0.7590 - val_accuracy: 0.7170\n",
            "Epoch 49/100\n",
            "365/365 [==============================] - 20s 54ms/step - loss: 0.6737 - accuracy: 0.7358 - val_loss: 0.7955 - val_accuracy: 0.7029\n",
            "Epoch 50/100\n",
            "365/365 [==============================] - 20s 55ms/step - loss: 0.6613 - accuracy: 0.7374 - val_loss: 0.7830 - val_accuracy: 0.7092\n",
            "Epoch 51/100\n",
            "365/365 [==============================] - 20s 54ms/step - loss: 0.6558 - accuracy: 0.7418 - val_loss: 0.7604 - val_accuracy: 0.7188\n",
            "Epoch 52/100\n",
            "365/365 [==============================] - 20s 55ms/step - loss: 0.6466 - accuracy: 0.7450 - val_loss: 0.7829 - val_accuracy: 0.7164\n",
            "Epoch 53/100\n",
            "365/365 [==============================] - 20s 55ms/step - loss: 0.6448 - accuracy: 0.7472 - val_loss: 0.7797 - val_accuracy: 0.7096\n",
            "Epoch 54/100\n",
            "365/365 [==============================] - 20s 54ms/step - loss: 0.6371 - accuracy: 0.7485 - val_loss: 0.7616 - val_accuracy: 0.7235\n",
            "Epoch 55/100\n",
            "365/365 [==============================] - 20s 55ms/step - loss: 0.6305 - accuracy: 0.7548 - val_loss: 0.7844 - val_accuracy: 0.7175\n",
            "Epoch 56/100\n",
            "365/365 [==============================] - 20s 54ms/step - loss: 0.6296 - accuracy: 0.7542 - val_loss: 0.7726 - val_accuracy: 0.7128\n",
            "Epoch 57/100\n",
            "365/365 [==============================] - 20s 54ms/step - loss: 0.6155 - accuracy: 0.7599 - val_loss: 0.7673 - val_accuracy: 0.7228\n",
            "Epoch 58/100\n",
            "365/365 [==============================] - 20s 55ms/step - loss: 0.6130 - accuracy: 0.7596 - val_loss: 0.7516 - val_accuracy: 0.7266\n",
            "Epoch 59/100\n",
            "365/365 [==============================] - 20s 55ms/step - loss: 0.6103 - accuracy: 0.7632 - val_loss: 0.7524 - val_accuracy: 0.7297\n",
            "Epoch 60/100\n",
            "365/365 [==============================] - 20s 54ms/step - loss: 0.5998 - accuracy: 0.7665 - val_loss: 0.7785 - val_accuracy: 0.7183\n",
            "Epoch 61/100\n",
            "365/365 [==============================] - 20s 55ms/step - loss: 0.5924 - accuracy: 0.7673 - val_loss: 0.7746 - val_accuracy: 0.7211\n",
            "Epoch 62/100\n",
            "365/365 [==============================] - 20s 55ms/step - loss: 0.5869 - accuracy: 0.7708 - val_loss: 0.8042 - val_accuracy: 0.7108\n",
            "Epoch 63/100\n",
            "365/365 [==============================] - 20s 55ms/step - loss: 0.5789 - accuracy: 0.7730 - val_loss: 0.7668 - val_accuracy: 0.7247\n",
            "Epoch 64/100\n",
            "365/365 [==============================] - 20s 54ms/step - loss: 0.5777 - accuracy: 0.7765 - val_loss: 0.7849 - val_accuracy: 0.7168\n",
            "Epoch 65/100\n",
            "365/365 [==============================] - 20s 55ms/step - loss: 0.5698 - accuracy: 0.7770 - val_loss: 0.7753 - val_accuracy: 0.7216\n",
            "Epoch 66/100\n",
            "365/365 [==============================] - 20s 54ms/step - loss: 0.5593 - accuracy: 0.7828 - val_loss: 0.7663 - val_accuracy: 0.7261\n",
            "Epoch 67/100\n",
            "365/365 [==============================] - 20s 54ms/step - loss: 0.5582 - accuracy: 0.7844 - val_loss: 0.7952 - val_accuracy: 0.7221\n",
            "Epoch 68/100\n",
            "365/365 [==============================] - 20s 54ms/step - loss: 0.5476 - accuracy: 0.7843 - val_loss: 0.7740 - val_accuracy: 0.7255\n",
            "Epoch 69/100\n",
            "365/365 [==============================] - 20s 55ms/step - loss: 0.5446 - accuracy: 0.7866 - val_loss: 0.7783 - val_accuracy: 0.7247\n",
            "Epoch 70/100\n",
            "365/365 [==============================] - 20s 54ms/step - loss: 0.5390 - accuracy: 0.7935 - val_loss: 0.8042 - val_accuracy: 0.7266\n",
            "Epoch 71/100\n",
            "365/365 [==============================] - 20s 55ms/step - loss: 0.5299 - accuracy: 0.7916 - val_loss: 0.7782 - val_accuracy: 0.7225\n",
            "Epoch 72/100\n",
            "365/365 [==============================] - 20s 55ms/step - loss: 0.5400 - accuracy: 0.7923 - val_loss: 0.8026 - val_accuracy: 0.7209\n",
            "Epoch 73/100\n",
            "365/365 [==============================] - 20s 54ms/step - loss: 0.5206 - accuracy: 0.7966 - val_loss: 0.7713 - val_accuracy: 0.7331\n",
            "Epoch 74/100\n",
            "365/365 [==============================] - 20s 54ms/step - loss: 0.5202 - accuracy: 0.8000 - val_loss: 0.8087 - val_accuracy: 0.7279\n",
            "Epoch 75/100\n",
            "365/365 [==============================] - 20s 54ms/step - loss: 0.5087 - accuracy: 0.8041 - val_loss: 0.7908 - val_accuracy: 0.7290\n",
            "Epoch 76/100\n",
            "365/365 [==============================] - 20s 55ms/step - loss: 0.5056 - accuracy: 0.8059 - val_loss: 0.8033 - val_accuracy: 0.7233\n",
            "Epoch 77/100\n",
            "365/365 [==============================] - 20s 55ms/step - loss: 0.5050 - accuracy: 0.8056 - val_loss: 0.7931 - val_accuracy: 0.7290\n",
            "Epoch 78/100\n",
            "365/365 [==============================] - 20s 55ms/step - loss: 0.4985 - accuracy: 0.8059 - val_loss: 0.7899 - val_accuracy: 0.7298\n",
            "Epoch 79/100\n",
            "365/365 [==============================] - 20s 55ms/step - loss: 0.4970 - accuracy: 0.8082 - val_loss: 0.7988 - val_accuracy: 0.7279\n",
            "Epoch 80/100\n",
            "365/365 [==============================] - 20s 55ms/step - loss: 0.4993 - accuracy: 0.8063 - val_loss: 0.7839 - val_accuracy: 0.7329\n",
            "Epoch 81/100\n",
            "365/365 [==============================] - 20s 54ms/step - loss: 0.4837 - accuracy: 0.8168 - val_loss: 0.7995 - val_accuracy: 0.7238\n",
            "Epoch 82/100\n",
            "365/365 [==============================] - 20s 54ms/step - loss: 0.4728 - accuracy: 0.8189 - val_loss: 0.8198 - val_accuracy: 0.7254\n",
            "Epoch 83/100\n",
            "365/365 [==============================] - 20s 55ms/step - loss: 0.4742 - accuracy: 0.8171 - val_loss: 0.8148 - val_accuracy: 0.7319\n",
            "Epoch 84/100\n",
            "365/365 [==============================] - 20s 54ms/step - loss: 0.4694 - accuracy: 0.8198 - val_loss: 0.8053 - val_accuracy: 0.7262\n",
            "Epoch 85/100\n",
            "365/365 [==============================] - 20s 55ms/step - loss: 0.4659 - accuracy: 0.8206 - val_loss: 0.8344 - val_accuracy: 0.7252\n",
            "Epoch 86/100\n",
            "365/365 [==============================] - 20s 55ms/step - loss: 0.4631 - accuracy: 0.8243 - val_loss: 0.8369 - val_accuracy: 0.7259\n",
            "Epoch 87/100\n",
            "365/365 [==============================] - 20s 56ms/step - loss: 0.4564 - accuracy: 0.8268 - val_loss: 0.8254 - val_accuracy: 0.7254\n",
            "Epoch 88/100\n",
            "365/365 [==============================] - 20s 56ms/step - loss: 0.4514 - accuracy: 0.8247 - val_loss: 0.8288 - val_accuracy: 0.7360\n",
            "Epoch 89/100\n",
            "365/365 [==============================] - 20s 56ms/step - loss: 0.4487 - accuracy: 0.8278 - val_loss: 0.8354 - val_accuracy: 0.7279\n",
            "Epoch 90/100\n",
            "365/365 [==============================] - 21s 58ms/step - loss: 0.4409 - accuracy: 0.8289 - val_loss: 0.8566 - val_accuracy: 0.7288\n",
            "Epoch 91/100\n",
            "365/365 [==============================] - 21s 58ms/step - loss: 0.4401 - accuracy: 0.8305 - val_loss: 0.8387 - val_accuracy: 0.7355\n",
            "Epoch 92/100\n",
            "365/365 [==============================] - 20s 56ms/step - loss: 0.4333 - accuracy: 0.8361 - val_loss: 0.8345 - val_accuracy: 0.7341\n",
            "Epoch 93/100\n",
            "365/365 [==============================] - 20s 55ms/step - loss: 0.4280 - accuracy: 0.8383 - val_loss: 0.8367 - val_accuracy: 0.7357\n",
            "Epoch 94/100\n",
            "365/365 [==============================] - 21s 57ms/step - loss: 0.4266 - accuracy: 0.8380 - val_loss: 0.8314 - val_accuracy: 0.7329\n",
            "Epoch 95/100\n",
            "365/365 [==============================] - 21s 57ms/step - loss: 0.4241 - accuracy: 0.8375 - val_loss: 0.8185 - val_accuracy: 0.7358\n",
            "Epoch 96/100\n",
            "365/365 [==============================] - 20s 56ms/step - loss: 0.4168 - accuracy: 0.8373 - val_loss: 0.8441 - val_accuracy: 0.7286\n",
            "Epoch 97/100\n",
            "365/365 [==============================] - 20s 56ms/step - loss: 0.4160 - accuracy: 0.8400 - val_loss: 0.8349 - val_accuracy: 0.7382\n",
            "Epoch 98/100\n",
            "365/365 [==============================] - 20s 56ms/step - loss: 0.4064 - accuracy: 0.8456 - val_loss: 0.8657 - val_accuracy: 0.7322\n",
            "Epoch 99/100\n",
            "365/365 [==============================] - 20s 55ms/step - loss: 0.4070 - accuracy: 0.8425 - val_loss: 0.8558 - val_accuracy: 0.7293\n",
            "Epoch 100/100\n",
            "365/365 [==============================] - 20s 56ms/step - loss: 0.4022 - accuracy: 0.8468 - val_loss: 0.8599 - val_accuracy: 0.7326\n"
          ],
          "name": "stdout"
        }
      ]
    },
    {
      "cell_type": "markdown",
      "metadata": {
        "id": "gZYEvgbq8Zan"
      },
      "source": [
        "**EĞİTİLMİŞ MODELİN ACC-VAL GRAFİĞİNİ ÇİZDİRMEK**"
      ]
    },
    {
      "cell_type": "code",
      "metadata": {
        "id": "tE1kWcKH8RZg",
        "colab": {
          "base_uri": "https://localhost:8080/",
          "height": 259
        },
        "outputId": "75bcff2e-ad99-4efe-c849-995ab989b0db"
      },
      "source": [
        "fig , ax = plt.subplots(1,2)\n",
        "train_acc = history.history['accuracy']\n",
        "train_loss = history.history['loss']\n",
        "fig.set_size_inches(12,4)\n",
        "\n",
        "ax[0].plot(history.history['accuracy'])\n",
        "ax[0].plot(history.history['val_accuracy'])\n",
        "ax[0].set_title('Training Accuracy vs Validation Accuracy')\n",
        "ax[0].set_ylabel('Accuracy')\n",
        "ax[0].set_xlabel('Epoch')\n",
        "ax[0].legend(['Train', 'Validation'], loc='upper left')\n",
        "\n",
        "ax[1].plot(history.history['loss'])\n",
        "ax[1].plot(history.history['val_loss'])\n",
        "ax[1].set_title('Training Loss vs Validation Loss')\n",
        "ax[1].set_ylabel('Loss')\n",
        "ax[1].set_xlabel('Epoch')\n",
        "ax[1].legend(['Train', 'Validation'], loc='upper left')\n",
        "\n",
        "plt.show()"
      ],
      "execution_count": null,
      "outputs": [
        {
          "output_type": "display_data",
          "data": {
            "image/png": "[encoded data removed]",
            "text/plain": [
              "<Figure size 864x288 with 2 Axes>"
            ]
          },
          "metadata": {
            "tags": [],
            "needs_background": "light"
          }
        }
      ]
    },
    {
      "cell_type": "markdown",
      "metadata": {
        "id": "8YklvEVn8fQ_"
      },
      "source": [
        "**MODELİ TEST ETMEK**"
      ]
    },
    {
      "cell_type": "code",
      "metadata": {
        "id": "bcA5Hunn8Trg",
        "colab": {
          "base_uri": "https://localhost:8080/",
          "height": 284
        },
        "outputId": "b0443f77-ae56-409a-c96e-36d898241326"
      },
      "source": [
        "img = image.load_img(\"monalisa.jpg\",target_size = (48,48),color_mode = \"grayscale\")\n",
        "img = np.array(img)\n",
        "plt.imshow(img)\n",
        "print(img.shape)"
      ],
      "execution_count": null,
      "outputs": [
        {
          "output_type": "stream",
          "text": [
            "(48, 48)\n"
          ],
          "name": "stdout"
        },
        {
          "output_type": "display_data",
          "data": {
            "image/png": "[encoded data removed]",
            "text/plain": [
              "<Figure size 432x288 with 1 Axes>"
            ]
          },
          "metadata": {
            "tags": [],
            "needs_background": "light"
          }
        }
      ]
    },
    {
      "cell_type": "code",
      "metadata": {
        "id": "fmswP3i38U3X"
      },
      "source": [
        "label_dict = {0:'Angry',1:'Fear',2:'Happy',3:'Sad',4:'Surprise'}"
      ],
      "execution_count": null,
      "outputs": []
    },
    {
      "cell_type": "code",
      "metadata": {
        "id": "BGgX_brX8V-X",
        "colab": {
          "base_uri": "https://localhost:8080/"
        },
        "outputId": "49159740-43a3-47d2-d9eb-1add771f503f"
      },
      "source": [
        "img = np.expand_dims(img,axis = 0)\n",
        "img = img.reshape(1,48,48,1)\n",
        "result = model.predict(img)\n",
        "result = list(result[0])\n",
        "print(result)"
      ],
      "execution_count": null,
      "outputs": [
        {
          "output_type": "stream",
          "text": [
            "[0.0, 0.0, 1.0, 0.0, 0.0]\n"
          ],
          "name": "stdout"
        }
      ]
    },
    {
      "cell_type": "code",
      "metadata": {
        "id": "3KzlYRj38XA_",
        "colab": {
          "base_uri": "https://localhost:8080/"
        },
        "outputId": "7a09b207-1aef-451c-dfb8-dd901b382370"
      },
      "source": [
        "img_index = result.index(max(result))\n",
        "print(label_dict[img_index])\n",
        "plt.show()"
      ],
      "execution_count": null,
      "outputs": [
        {
          "output_type": "stream",
          "text": [
            "Happy\n"
          ],
          "name": "stdout"
        }
      ]
    }
  ]
}